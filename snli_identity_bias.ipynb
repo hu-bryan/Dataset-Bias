{
 "cells": [
  {
   "cell_type": "code",
   "execution_count": 2,
   "id": "93c2ea78",
   "metadata": {},
   "outputs": [],
   "source": [
    "import pandas as pd\n",
    "\n",
    "df = pd.read_json('./snli_1.0/snli_1.0_train.jsonl', lines=True)\n",
    "df = df[['captionID', 'sentence1', 'sentence2']]"
   ]
  },
  {
   "cell_type": "code",
   "execution_count": 3,
   "id": "93901edb",
   "metadata": {},
   "outputs": [],
   "source": [
    "file = open('identity_terms.txt', 'r')\n",
    "id_terms = []\n",
    "for line in file:\n",
    "    term = line.strip().lower()\n",
    "    id_terms.append(term)\n"
   ]
  },
  {
   "cell_type": "code",
   "execution_count": 4,
   "id": "e247c75d",
   "metadata": {},
   "outputs": [],
   "source": [
    "prems = df.drop_duplicates(subset=['captionID'])['sentence1'].to_dict()\n",
    "hyps = df['sentence2'].drop_duplicates().to_dict()"
   ]
  },
  {
   "cell_type": "code",
   "execution_count": 5,
   "id": "fbab8f58",
   "metadata": {},
   "outputs": [],
   "source": [
    "import nltk\n",
    "from nltk.corpus import stopwords\n",
    "from collections import Counter, defaultdict\n",
    "import math\n",
    "\n",
    "from text_tools import process, count_words\n",
    "\n",
    "stopwords = set(stopwords.words(\"english\"))\n",
    "\n",
    "def bias_info(target, corpus, single_count, threshold=10):\n",
    "    N = len(corpus)\n",
    "    pair_count = Counter()\n",
    "\n",
    "    if single_count[target] == 0:\n",
    "        return None\n",
    "\n",
    "    pair_pmi = dict()\n",
    "    pair_location = defaultdict(list) \n",
    "    \n",
    "    for idx, uttr in corpus.items():\n",
    "        if target in uttr:\n",
    "            for w in uttr:\n",
    "                pair_count[w] += 1 \n",
    "                pair_location[w].append(idx)\n",
    "    \n",
    "    for w in pair_count:\n",
    "        if single_count[w] >= threshold:\n",
    "            pmi = math.log2(N * pair_count[w]) - math.log2(single_count[target] * single_count[w])\n",
    "            pair_pmi[w] = pmi \n",
    "\n",
    "    return pair_pmi, pair_location\n"
   ]
  },
  {
   "cell_type": "code",
   "execution_count": 6,
   "id": "804a9192",
   "metadata": {},
   "outputs": [],
   "source": [
    "processed_prems = process(prems, stopwords)\n",
    "single_count_prems = count_words(processed_prems)\n",
    "\n",
    "processed_hyps = process(hyps, stopwords)\n",
    "single_count_hyps = count_words(processed_hyps)"
   ]
  },
  {
   "cell_type": "code",
   "execution_count": 89,
   "id": "73e4dda9",
   "metadata": {},
   "outputs": [
    {
     "name": "stdout",
     "output_type": "stream",
     "text": [
      "    Identity Terms  Num of Prems\n",
      "2              man         38667\n",
      "0            woman         20358\n",
      "125          young         12161\n",
      "35           white         11769\n",
      "32           black         10932\n",
      "4             girl          8912\n",
      "3              men          8900\n",
      "6              boy          8735\n",
      "1            women          4926\n",
      "5            girls          2505\n"
     ]
    }
   ],
   "source": [
    "prems_data = {\n",
    "    'Identity Terms': id_terms,\n",
    "    'Num of Prems' : [single_count_prems[term] for term in id_terms]\n",
    "}\n",
    "\n",
    "prems_id_count = pd.DataFrame(prems_data)\n",
    "prems_id_count = prems_id_count[prems_id_count['Num of Prems'] >= 10]\n",
    "prems_id_count = prems_id_count.sort_values(by='Num of Prems', ascending=False)\n",
    "\n",
    "print(prems_id_count.head(10))"
   ]
  },
  {
   "cell_type": "code",
   "execution_count": 87,
   "id": "3081f566",
   "metadata": {},
   "outputs": [],
   "source": [
    "import pickle \n",
    "\n",
    "with open('prem_identity_at_least_ten.pickle', 'wb') as f:\n",
    "     pickle.dump(prems_id_count['Identity Terms'].tolist(), f)\n"
   ]
  },
  {
   "cell_type": "code",
   "execution_count": 8,
   "id": "0d28cab8",
   "metadata": {},
   "outputs": [
    {
     "name": "stdout",
     "output_type": "stream",
     "text": [
      "    Identity Terms  Num of Hyps\n",
      "2              man        94829\n",
      "0            woman        50210\n",
      "3              men        24395\n",
      "4             girl        22675\n",
      "6              boy        21951\n",
      "1            women        14316\n",
      "125          young        14230\n",
      "32           black         7538\n",
      "5            girls         7064\n",
      "35           white         6520\n",
      "7             boys         5210\n",
      "121            old         5085\n",
      "13          female         2333\n",
      "33           asian         2244\n",
      "15          mother         2119\n",
      "14            male         1797\n",
      "20             son         1475\n",
      "16          father         1366\n",
      "122        elderly         1256\n",
      "19        daughter         1092\n"
     ]
    }
   ],
   "source": [
    "hyps_data = {\n",
    "    'Identity Terms': id_terms,\n",
    "    'Num of Hyps' : [single_count_hyps[term] for term in id_terms]\n",
    "}\n",
    "\n",
    "hyps_id_count = pd.DataFrame(hyps_data)\n",
    "hyps_id_count = hyps_id_count[hyps_id_count['Num of Hyps'] >= 10]\n",
    "hyps_id_count = hyps_id_count.sort_values(by='Num of Hyps', ascending=False)\n",
    "\n",
    "print(hyps_id_count.head(20))"
   ]
  },
  {
   "cell_type": "code",
   "execution_count": 9,
   "id": "9e03878c",
   "metadata": {},
   "outputs": [],
   "source": [
    "select_id_terms = [\n",
    "    'man', \n",
    "    'men',\n",
    "    'boy',\n",
    "    'male',\n",
    "    'woman',\n",
    "    'women',\n",
    "    'girl',\n",
    "    'female',\n",
    "    'caucasian',\n",
    "    'african',\n",
    "    'asian'\n",
    "]"
   ]
  },
  {
   "cell_type": "code",
   "execution_count": 10,
   "id": "a92a1e26",
   "metadata": {},
   "outputs": [],
   "source": [
    "prems_bias = defaultdict(dict)\n",
    "for term in select_id_terms:\n",
    "    pair_pmi, pair_locations = bias_info(term, processed_prems, single_count_prems)\n",
    "    prems_bias[term]['pmi'] = pair_pmi\n",
    "    prems_bias[term]['locations'] = pair_locations\n",
    "\n",
    "hyps_bias = defaultdict(dict)\n",
    "for term in select_id_terms:\n",
    "    pair_pmi, pair_locations = bias_info(term, processed_hyps, single_count_hyps)\n",
    "    hyps_bias[term]['pmi'] = pair_pmi\n",
    "    hyps_bias[term]['locations'] = pair_locations\n"
   ]
  },
  {
   "cell_type": "code",
   "execution_count": 11,
   "id": "d25c7209",
   "metadata": {},
   "outputs": [
    {
     "name": "stdout",
     "output_type": "stream",
     "text": [
      "          Terms       PMI\n",
      "4         asian  6.113303\n",
      "406   southeast  5.627876\n",
      "100     descent  5.275054\n",
      "267        east  4.528341\n",
      "315    language  4.265306\n",
      "1315     pastel  3.997826\n"
     ]
    }
   ],
   "source": [
    "output_pairs = prems_bias['asian']['pmi']\n",
    "output_df = pd.DataFrame.from_dict(output_pairs, orient='index', columns=['PMI']).reset_index()\n",
    "output_df.columns = ['Terms', 'PMI']\n",
    "output_df = output_df.sort_values(by='PMI', ascending=False)\n",
    "print(output_df.head(6))\n"
   ]
  },
  {
   "cell_type": "code",
   "execution_count": 76,
   "id": "f187bbeb",
   "metadata": {},
   "outputs": [
    {
     "data": {
      "text/plain": [
       "[24600, 31950, 137616, 166914, 211449, 319215, 459039]"
      ]
     },
     "execution_count": 76,
     "metadata": {},
     "output_type": "execute_result"
    }
   ],
   "source": [
    "prems_bias['female']['locations']['vocalist']"
   ]
  },
  {
   "cell_type": "code",
   "execution_count": 81,
   "id": "8b70950a",
   "metadata": {},
   "outputs": [
    {
     "data": {
      "text/plain": [
       "{'captionID': '7078369637.jpg#0',\n",
       " 'sentence1': 'Two asian band members, a female vocalist with reddish hair and a black leather vest, and a male guitarist with a old west-style black, red, and white shirt and a red scarf perform.',\n",
       " 'sentence2': 'They are pop stars.'}"
      ]
     },
     "execution_count": 81,
     "metadata": {},
     "output_type": "execute_result"
    }
   ],
   "source": [
    "df.iloc[459039].to_dict()"
   ]
  },
  {
   "cell_type": "code",
   "execution_count": 82,
   "id": "bfd8e69c",
   "metadata": {},
   "outputs": [
    {
     "data": {
      "text/plain": [
       "{'captionID': {459039: '7078369637.jpg#0',\n",
       "  459040: '7078369637.jpg#0',\n",
       "  459041: '7078369637.jpg#0'},\n",
       " 'sentence1': {459039: 'Two asian band members, a female vocalist with reddish hair and a black leather vest, and a male guitarist with a old west-style black, red, and white shirt and a red scarf perform.',\n",
       "  459040: 'Two asian band members, a female vocalist with reddish hair and a black leather vest, and a male guitarist with a old west-style black, red, and white shirt and a red scarf perform.',\n",
       "  459041: 'Two asian band members, a female vocalist with reddish hair and a black leather vest, and a male guitarist with a old west-style black, red, and white shirt and a red scarf perform.'},\n",
       " 'sentence2': {459039: 'They are pop stars.',\n",
       "  459040: 'They are both Africans.',\n",
       "  459041: 'They are both wearing black.'}}"
      ]
     },
     "execution_count": 82,
     "metadata": {},
     "output_type": "execute_result"
    }
   ],
   "source": [
    "(df[df['captionID'] == '7078369637.jpg#0']).to_dict()"
   ]
  }
 ],
 "metadata": {
  "kernelspec": {
   "display_name": "ez_nlp",
   "language": "python",
   "name": "python3"
  },
  "language_info": {
   "codemirror_mode": {
    "name": "ipython",
    "version": 3
   },
   "file_extension": ".py",
   "mimetype": "text/x-python",
   "name": "python",
   "nbconvert_exporter": "python",
   "pygments_lexer": "ipython3",
   "version": "3.10.18"
  }
 },
 "nbformat": 4,
 "nbformat_minor": 5
}
